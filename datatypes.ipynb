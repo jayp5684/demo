{
 "cells": [
  {
   "cell_type": "markdown",
   "id": "0b6f11b4",
   "metadata": {},
   "source": [
    "# data types in python"
   ]
  },
  {
   "cell_type": "code",
   "execution_count": 1,
   "id": "14e67a0d",
   "metadata": {},
   "outputs": [
    {
     "name": "stdout",
     "output_type": "stream",
     "text": [
      "(1, 'jay', 3)\n"
     ]
    }
   ],
   "source": [
    "#tuple\n",
    "tup =(1,'jay',1+2)\n",
    "print(tup)"
   ]
  },
  {
   "cell_type": "code",
   "execution_count": 2,
   "id": "35838bb6",
   "metadata": {},
   "outputs": [
    {
     "name": "stdout",
     "output_type": "stream",
     "text": [
      "['jay', 'sanket', 'neel', 'rajesh']\n"
     ]
    }
   ],
   "source": [
    "#list\n",
    "name = ['jay','sanket','neel','rajesh']\n",
    "print (name)"
   ]
  },
  {
   "cell_type": "code",
   "execution_count": 4,
   "id": "b425d18e",
   "metadata": {},
   "outputs": [
    {
     "name": "stdout",
     "output_type": "stream",
     "text": [
      "['jay', 'sanket', 'neel', 'rajesh', 'jayesh']\n"
     ]
    }
   ],
   "source": [
    "#append adding value at the end\n",
    "name.append('jayesh')\n",
    "print(name)"
   ]
  },
  {
   "cell_type": "code",
   "execution_count": 6,
   "id": "a2fbc9e5",
   "metadata": {},
   "outputs": [
    {
     "name": "stdout",
     "output_type": "stream",
     "text": [
      "sanket\n"
     ]
    }
   ],
   "source": [
    "print(name[1])"
   ]
  },
  {
   "cell_type": "code",
   "execution_count": 14,
   "id": "bdce7ef4",
   "metadata": {},
   "outputs": [
    {
     "name": "stdout",
     "output_type": "stream",
     "text": [
      "['jk', 'pp', 'kk', 'np', 'tk']\n"
     ]
    }
   ],
   "source": [
    "#pop function in list\n",
    "list22 = ['jk','pp','kk','np','tk','nj']\n",
    "list22.pop()\n",
    "print(list22)"
   ]
  },
  {
   "cell_type": "code",
   "execution_count": 11,
   "id": "049c1abc",
   "metadata": {},
   "outputs": [
    {
     "name": "stdout",
     "output_type": "stream",
     "text": [
      "abcdefghijklmnopqrstuvwxyz\n"
     ]
    }
   ],
   "source": [
    "#string\n",
    "str1 = ('abcdefghijklmnopqrstuvwxyz')\n",
    "print(str1)\n"
   ]
  },
  {
   "cell_type": "code",
   "execution_count": 11,
   "id": "79e8ffd5",
   "metadata": {},
   "outputs": [
    {
     "name": "stdout",
     "output_type": "stream",
     "text": [
      "hello 3\n"
     ]
    }
   ],
   "source": [
    "#fstring\n",
    "a = 3 \n",
    "print(f'hello',a)"
   ]
  },
  {
   "cell_type": "code",
   "execution_count": 13,
   "id": "1ab6d10b",
   "metadata": {},
   "outputs": [
    {
     "name": "stdout",
     "output_type": "stream",
     "text": [
      "bcdefgh\n"
     ]
    }
   ],
   "source": [
    "print(str1[1:8])"
   ]
  },
  {
   "cell_type": "code",
   "execution_count": 14,
   "id": "0736cbaa",
   "metadata": {},
   "outputs": [
    {
     "name": "stdout",
     "output_type": "stream",
     "text": [
      "['a', 'b', 'c', 'd', 'e', 'f', 'g', 'h', 'i', 'j', 'k', 'l', 'm', 'n', 'o', 'p', 'q', 'r', 's', 't', 'u', 'v', 'w', 'x', 'y', 'z']\n"
     ]
    }
   ],
   "source": [
    "#string into list\n",
    "one = list(str1)\n",
    "print(one)"
   ]
  },
  {
   "cell_type": "code",
   "execution_count": 27,
   "id": "b1d5e31f",
   "metadata": {},
   "outputs": [
    {
     "name": "stdout",
     "output_type": "stream",
     "text": [
      "['b', 'c', 'd', 'e', 'f', 'g', 'i', 'j', 'k', 'l', 'm', 'n', 'o', 'p', 'q', 'r', 's', 't', 'u', 'v', 'w', 'x', 'y', 'z']\n"
     ]
    }
   ],
   "source": [
    "# remove elements in list\n",
    "one.remove(\"a\")\n",
    "print(one)"
   ]
  },
  {
   "cell_type": "code",
   "execution_count": 43,
   "id": "97b90e81",
   "metadata": {},
   "outputs": [
    {
     "name": "stdout",
     "output_type": "stream",
     "text": [
      "[1, 3, 4, 5, 6, 7, 8, 9, 0]\n",
      "[1, 4, 5, 6, 7, 8, 9, 0]\n",
      "[1, 5, 6, 7, 8, 9, 0]\n"
     ]
    }
   ],
   "source": [
    "#remorving multiple elements from the list\n",
    "one1 = [1,2,3,4,5,6,7,8,9,0]\n",
    "for i in range (2,5):\n",
    "    one1.remove(i)\n",
    "    print(one1)"
   ]
  },
  {
   "cell_type": "code",
   "execution_count": 44,
   "id": "1b4ab06f",
   "metadata": {},
   "outputs": [
    {
     "name": "stdout",
     "output_type": "stream",
     "text": [
      "[1, 5, 6, 7, 8, 9, 0]\n"
     ]
    }
   ],
   "source": [
    "#using pop function\n",
    "one1.pop\n",
    "print(one1)"
   ]
  },
  {
   "cell_type": "code",
   "execution_count": 46,
   "id": "759d8906",
   "metadata": {},
   "outputs": [
    {
     "name": "stdout",
     "output_type": "stream",
     "text": [
      "<built-in method reverse of list object at 0x000002DDCE85F108>\n"
     ]
    }
   ],
   "source": [
    "#reversing list\n",
    "two = one1.reverse\n",
    "print(two)"
   ]
  },
  {
   "cell_type": "code",
   "execution_count": 4,
   "id": "cbf2cc08",
   "metadata": {},
   "outputs": [
    {
     "name": "stdout",
     "output_type": "stream",
     "text": [
      "[1, 2, 5, 6, 7, 8, 9, 0]\n"
     ]
    }
   ],
   "source": [
    "#eliminating specific value with the help of index values\n",
    "list1= [1,2,4,5,6,7,8,9,0]\n",
    "list1.pop(2)\n",
    "print(list1)"
   ]
  },
  {
   "cell_type": "code",
   "execution_count": 48,
   "id": "06f0c041",
   "metadata": {},
   "outputs": [
    {
     "name": "stdout",
     "output_type": "stream",
     "text": [
      "[6, 7, 8, 9, 0]\n"
     ]
    }
   ],
   "source": [
    "#slicing list\n",
    "one11=one1[2:]\n",
    "print(one11)"
   ]
  },
  {
   "cell_type": "code",
   "execution_count": 49,
   "id": "73d7f823",
   "metadata": {},
   "outputs": [
    {
     "name": "stdout",
     "output_type": "stream",
     "text": [
      "{1, 2, 3, 4, 5, 6, 7, 8, 9, 10}\n"
     ]
    }
   ],
   "source": [
    "#sets  \n",
    "\n",
    "sett = set([1,1,2,3,4,5,6,7,7,8,8,8,9,10])\n",
    "print(sett)"
   ]
  },
  {
   "cell_type": "code",
   "execution_count": 55,
   "id": "47821503",
   "metadata": {},
   "outputs": [
    {
     "name": "stdout",
     "output_type": "stream",
     "text": [
      "{1, 2, 3, 4, 5, 6, 7, 8, 9, 10, 11}\n"
     ]
    }
   ],
   "source": [
    "#adding values into set\n",
    "sett.add(11)\n",
    "print(sett)"
   ]
  },
  {
   "cell_type": "code",
   "execution_count": 58,
   "id": "59b7a026",
   "metadata": {},
   "outputs": [
    {
     "name": "stdout",
     "output_type": "stream",
     "text": [
      "{1, 2, 3, (4, 5), 11, 12}\n"
     ]
    }
   ],
   "source": [
    "#updating sets\n",
    "sett1 = {1,2,3,(4,5)}\n",
    "sett1.update([11,12])\n",
    "print(sett1)"
   ]
  },
  {
   "cell_type": "code",
   "execution_count": 62,
   "id": "9b4c6660",
   "metadata": {},
   "outputs": [
    {
     "name": "stdout",
     "output_type": "stream",
     "text": [
      "{(4, 5), 11, 12}\n"
     ]
    }
   ],
   "source": [
    "#using pop function\n",
    "sett1.pop()\n",
    "print(sett1)"
   ]
  },
  {
   "cell_type": "code",
   "execution_count": 63,
   "id": "bcc14fc0",
   "metadata": {},
   "outputs": [
    {
     "name": "stdout",
     "output_type": "stream",
     "text": [
      "set()\n"
     ]
    }
   ],
   "source": [
    "#clearing set\n",
    "sett1.clear()\n",
    "print(sett1)"
   ]
  },
  {
   "cell_type": "code",
   "execution_count": 3,
   "id": "4d663916",
   "metadata": {},
   "outputs": [
    {
     "name": "stdout",
     "output_type": "stream",
     "text": [
      "jkTrue\n",
      "kkTrue\n",
      "mkTrue\n",
      "jayTrue\n"
     ]
    }
   ],
   "source": [
    "#checking weather element is present in set\n",
    "set2 = {'jay','mk','kk','jk'}\n",
    "for i in set2:\n",
    "    print(i, end= \"\")\n",
    "    print(\"jay\"in set2)"
   ]
  },
  {
   "cell_type": "code",
   "execution_count": 7,
   "id": "0cb98336",
   "metadata": {},
   "outputs": [
    {
     "name": "stdout",
     "output_type": "stream",
     "text": [
      "{'jj', 'pp', 'kk', 'jk', 'tk', 'jay', 'jp'} initial set\n",
      "{'jj', 'pp', 'jk', 'tk', 'jay', 'jp'} edited set\n"
     ]
    }
   ],
   "source": [
    "#eliminating values from set using remove function\n",
    "set3 = set(['jay','pp','kk','jk','tk','jp','jj'])\n",
    "print(set3,\"initial set\")\n",
    "set3.remove('kk')\n",
    "print(set3,\"edited set\")"
   ]
  },
  {
   "cell_type": "code",
   "execution_count": 10,
   "id": "a3641a2f",
   "metadata": {},
   "outputs": [
    {
     "name": "stdout",
     "output_type": "stream",
     "text": [
      "{1, 2, 3, 4, 5, 6, 7, 8, 9, 11} initial set\n",
      "{2, 3, 4, 5, 6, 7, 8, 9, 11} edited set\n",
      "{3, 4, 5, 6, 7, 8, 9, 11} edited set\n",
      "{4, 5, 6, 7, 8, 9, 11} edited set\n"
     ]
    }
   ],
   "source": [
    "#eliminating multiple values from a set\n",
    "set4=set([1,2,3,4,5,6,7,8,9,11])\n",
    "print(set4,\"initial set\")\n",
    "for i in range (1,4):\n",
    "    set4.remove(i)\n",
    "    print(set4,\"edited set\")\n"
   ]
  },
  {
   "cell_type": "code",
   "execution_count": 13,
   "id": "4383283f",
   "metadata": {},
   "outputs": [
    {
     "name": "stdout",
     "output_type": "stream",
     "text": [
      "{5, 6, 7, 8, 9, 11}\n"
     ]
    }
   ],
   "source": [
    "#using pop function on a set\n",
    "set4.pop()\n",
    "print(set4)"
   ]
  },
  {
   "cell_type": "code",
   "execution_count": 16,
   "id": "5a01b8bb",
   "metadata": {},
   "outputs": [
    {
     "name": "stdout",
     "output_type": "stream",
     "text": [
      "{' ', 'w', 's', 'm', 'i', 'o', 'e', 'a'}\n"
     ]
    }
   ],
   "source": [
    "#string into set\n",
    "string = \"i m awsome\"\n",
    "set7= set(string)\n",
    "print(set7)"
   ]
  },
  {
   "cell_type": "code",
   "execution_count": 17,
   "id": "ace49169",
   "metadata": {},
   "outputs": [
    {
     "name": "stdout",
     "output_type": "stream",
     "text": [
      "{1: 'jay', 2: 'pp', 3: 'kk', 4: 'dp', 5: 'np', 6: 'rp', 7: 'cp'}\n"
     ]
    }
   ],
   "source": [
    "#dictionary\n",
    "dct = {1:'jay',2:'pp',3:'kk',4:'dp',5:'np',6:'rp',7:'cp'}\n",
    "print(dct)"
   ]
  },
  {
   "cell_type": "code",
   "execution_count": 19,
   "id": "5939e151",
   "metadata": {},
   "outputs": [
    {
     "name": "stdout",
     "output_type": "stream",
     "text": [
      "{1: 'jay', 2: 'pp', 3: 'kk', 4: 'dp', 5: 'np', 6: 'rp', 7: 'cp', 8: 'pn'}\n"
     ]
    }
   ],
   "source": [
    "#adding values to dectionaries\n",
    "dct[8]= \"pn\"\n",
    "print(dct)"
   ]
  },
  {
   "cell_type": "code",
   "execution_count": 18,
   "id": "d1d30641",
   "metadata": {},
   "outputs": [
    {
     "name": "stdout",
     "output_type": "stream",
     "text": [
      "{1: 'awsome', 2: 'cool', 3: {1: 'dashing', 2: 'dapper'}}\n"
     ]
    }
   ],
   "source": [
    "#nested dictionary\n",
    "dct1 = {1:'awsome',2:'cool',3:{1:'dashing',2:'dapper'}}\n",
    "print(dct1)"
   ]
  },
  {
   "cell_type": "code",
   "execution_count": 20,
   "id": "bea5937b",
   "metadata": {},
   "outputs": [
    {
     "name": "stdout",
     "output_type": "stream",
     "text": [
      "dp\n"
     ]
    }
   ],
   "source": [
    "#acessing element using grt function \n",
    "print(dct.get(4))"
   ]
  },
  {
   "cell_type": "code",
   "execution_count": 21,
   "id": "4a7ccc9a",
   "metadata": {},
   "outputs": [
    {
     "name": "stdout",
     "output_type": "stream",
     "text": [
      "{1: 'jay', 2: 'pp', 3: 'kk', 4: 'dp', 5: 'np', 6: 'rp', 7: 'cp', 8: 'pn'}\n"
     ]
    }
   ],
   "source": [
    "#copying dictionary\n",
    "sct3= dct.copy()\n",
    "print(sct3)"
   ]
  },
  {
   "cell_type": "code",
   "execution_count": 22,
   "id": "356ebc93",
   "metadata": {},
   "outputs": [
    {
     "name": "stdout",
     "output_type": "stream",
     "text": [
      "dict_items([(1, 'jay'), (2, 'pp'), (3, 'kk'), (4, 'dp'), (5, 'np'), (6, 'rp'), (7, 'cp'), (8, 'pn')])\n"
     ]
    }
   ],
   "source": [
    "#checking elements in dictionary\n",
    "print(sct3.items())"
   ]
  },
  {
   "cell_type": "code",
   "execution_count": 24,
   "id": "4e24f9b6",
   "metadata": {},
   "outputs": [
    {
     "name": "stdout",
     "output_type": "stream",
     "text": [
      "{1: 'jay', 2: 'pp', 3: 'kk', 5: 'np', 6: 'rp', 7: 'cp', 8: 'pn'}\n"
     ]
    }
   ],
   "source": [
    "#deleting elements in the dicctionary usingg pop function\n",
    "sct3= set3.pop(4)\n",
    "print(sct3)"
   ]
  },
  {
   "cell_type": "code",
   "execution_count": 31,
   "id": "90fbc471",
   "metadata": {},
   "outputs": [
    {
     "name": "stdout",
     "output_type": "stream",
     "text": [
      "Requirement already satisfied: numpy in c:\\users\\jay\\desktop\\internship\\env\\lib\\site-packages (1.21.6)\n"
     ]
    }
   ],
   "source": [
    "!pip install numpy"
   ]
  },
  {
   "cell_type": "code",
   "execution_count": 34,
   "id": "db176cb4",
   "metadata": {},
   "outputs": [
    {
     "name": "stdout",
     "output_type": "stream",
     "text": [
      "array('i', [1, 2, 3, 4])\n"
     ]
    }
   ],
   "source": [
    "#creating array:- here 'i' represents the type of array\n",
    "import array as arr\n",
    "val = arr.array('i',[1,2,3,4])\n",
    "print(val)\n"
   ]
  },
  {
   "cell_type": "code",
   "execution_count": 38,
   "id": "48924014",
   "metadata": {},
   "outputs": [
    {
     "name": "stdout",
     "output_type": "stream",
     "text": [
      "array('i', [1, 2, 3, 4])\n"
     ]
    }
   ],
   "source": [
    "print(val)"
   ]
  },
  {
   "cell_type": "code",
   "execution_count": 39,
   "id": "3154285a",
   "metadata": {},
   "outputs": [
    {
     "name": "stdout",
     "output_type": "stream",
     "text": [
      "array('i', [1, 2, 3, 4, 7])\n"
     ]
    }
   ],
   "source": [
    "#apeend function in array\n",
    "val.append(7)\n",
    "print(val)"
   ]
  },
  {
   "cell_type": "code",
   "execution_count": 52,
   "id": "fb5e0abf",
   "metadata": {},
   "outputs": [
    {
     "name": "stdout",
     "output_type": "stream",
     "text": [
      "array('i', [1, 2, 3, 1, 5]) initial array\n",
      "array('i', [1, 2, 1, 5])\n"
     ]
    }
   ],
   "source": [
    "print(arr,\"initial array\")\n",
    "arr.pop(2)\n",
    "print(arr)"
   ]
  },
  {
   "cell_type": "code",
   "execution_count": 59,
   "id": "ee7e5320",
   "metadata": {},
   "outputs": [
    {
     "name": "stdout",
     "output_type": "stream",
     "text": [
      "1\r\n",
      "2\r\n",
      "1\r\n",
      "5\r\n"
     ]
    }
   ],
   "source": [
    "#printing array with the range\n",
    "for i in range(0,4):\n",
    "    print(arr[i],end = \"\")\n",
    "    print(\"\\r\")"
   ]
  },
  {
   "cell_type": "code",
   "execution_count": 1,
   "id": "1bc000a9",
   "metadata": {},
   "outputs": [
    {
     "name": "stdout",
     "output_type": "stream",
     "text": [
      "array('i', [1, 2, 3, 4, 5, 6, 7, 8, 9]) initial array\n",
      "array('i', [4, 5, 6, 7, 8, 9]) sliced array\n",
      "array('i', [4, 5, 6, 7, 8, 9]) sliced array\n",
      "array('i', [4, 5, 6, 7, 8, 9]) sliced array\n",
      "array('i', [4, 5, 6, 7, 8, 9]) sliced array\n",
      "array('i', [4, 5, 6, 7, 8, 9]) sliced array\n",
      "array('i', [4, 5, 6, 7, 8, 9]) sliced array\n",
      "array('i', [4, 5, 6, 7, 8, 9]) sliced array\n",
      "array('i', [4, 5, 6, 7, 8, 9]) sliced array\n",
      "array('i', [4, 5, 6, 7, 8, 9]) sliced array\n"
     ]
    }
   ],
   "source": [
    "#creating array from a list and slicing the created array\n",
    "import array as arr\n",
    "l = [1,2,3,4,5,6,7,8,9,]\n",
    "jpp = arr.array('i',l)\n",
    "print(jpp,\"initial array\")\n",
    "for i in (jpp):\n",
    "    sliced_jpp = jpp[3:]\n",
    "    print (sliced_jpp,\"sliced array\")\n",
    "    "
   ]
  },
  {
   "cell_type": "code",
   "execution_count": 2,
   "id": "4d006d2e",
   "metadata": {},
   "outputs": [
    {
     "name": "stdout",
     "output_type": "stream",
     "text": [
      "0\n"
     ]
    }
   ],
   "source": [
    "#using indexing on arrays:- .index function shows the index value of the given input\n",
    "import array as ass\n",
    "ar = arr.array('i',[1,2,3,4,5,6,7,8,9])\n",
    "print(ar.index(1))"
   ]
  },
  {
   "cell_type": "code",
   "execution_count": 3,
   "id": "c3e75dbd",
   "metadata": {},
   "outputs": [
    {
     "name": "stdout",
     "output_type": "stream",
     "text": [
      "array('i', [1, 2, 3, 4, 11, 6, 7, 8, 9])\n"
     ]
    }
   ],
   "source": [
    "#updating values of array\n",
    "ar[4]=11\n",
    "print(ar)"
   ]
  },
  {
   "cell_type": "code",
   "execution_count": 10,
   "id": "f94c1ef9",
   "metadata": {},
   "outputs": [
    {
     "name": "stdout",
     "output_type": "stream",
     "text": [
      "8\n",
      "array('i', [1, 2, 3, 4, 5, 6, 7, 8, 11])\n"
     ]
    }
   ],
   "source": [
    "import array as arr\n",
    "ar = arr.array('i',[1,2,3,4,5,6,7,8,])\n",
    "ar.insert(12,11)\n",
    "print(ar.index(11))\n",
    "print(ar)"
   ]
  },
  {
   "cell_type": "code",
   "execution_count": null,
   "id": "2e71fe01",
   "metadata": {},
   "outputs": [],
   "source": []
  }
 ],
 "metadata": {
  "kernelspec": {
   "display_name": "Python 3",
   "language": "python",
   "name": "python3"
  },
  "language_info": {
   "codemirror_mode": {
    "name": "ipython",
    "version": 3
   },
   "file_extension": ".py",
   "mimetype": "text/x-python",
   "name": "python",
   "nbconvert_exporter": "python",
   "pygments_lexer": "ipython3",
   "version": "3.7.16"
  },
  "vscode": {
   "interpreter": {
    "hash": "47bd8903fe50f0a0c1a30bcc31cfca37aeba6a5256c67035eeec86c7d2026f05"
   }
  }
 },
 "nbformat": 4,
 "nbformat_minor": 5
}
